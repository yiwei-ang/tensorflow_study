{
 "cells": [
  {
   "cell_type": "markdown",
   "metadata": {
    "colab": {},
    "colab_type": "code",
    "id": "wYtuKeK0dImp"
   },
   "source": [
    "# Sign Language MNIST\n",
    "\n",
    "* **Reference**: https://www.kaggle.com/datamunge/sign-language-mnist\n",
    "\n",
    "## Background\n",
    "\n",
    "* Originally, the MNIST image dataset of handwritten digits is a popular benchmark for image-based machine learning methods but researchers have renewed efforts to update it and develop drop-in replacements that are more challenging for computer vision and original for real-world applications.\n",
    "* Dataset has excluded J and Z which require motion).\n",
    "* Each training and test case represents a label (0-25) as a one-to-one map for each alphabetic letter A-Z (and no cases for 9=J or 25=Z because of gesture motions). The training data (27,455 cases) and test data (7172 cases).\n",
    "* Similar with a header row of label, pixel1,pixel2….pixel784 which represent a single 28x28 pixel image with grayscale values between 0-255. The original hand gesture image data represented multiple users repeating the gesture against different backgrounds. \n",
    "* The Sign Language MNIST data came from greatly extending the small number (1704) of the color images included as not cropped around the hand region of interest.\n",
    "\n",
    "## Aim/Purpose:\n",
    "\n",
    "* Data exploration of images\n",
    "    - Summarise number of training/test cases.\n",
    "* Neural Network building:\n",
    "    - Data Augmentation:\n",
    "        - Increase accuracy of **validation sets**\n",
    "        - Rescaling/Normalize the images.\n",
    "        - Rotation by angle.\n",
    "        - Random shifting with range.\n",
    "        - Shearing.\n",
    "        - Random zooming.\n",
    "        - Horizontal/Vertical Flipping.\n",
    "    - Neural Network:\n",
    "        - Add two **Convolution Layers** with ReLu activation function.\n",
    "        - Add two Two **Pooling Layers** consecutively after convolutionalize the images.\n",
    "        - Add a single **Flatten Layer** to convert matrix of pixels into array to further parsing.\n",
    "        - Add a **Dropout** layer to probabilistically remove the inputs to a layer, which may be input variables in the data sample or activations from a previous layer.\n",
    "        - Add **dense** layer to compile the weights and finally another one to determines the class of object.\n",
    "])\n",
    "\n",
    "* Loss function in Compiling:\n",
    "    - Mainly we use Cross Entropy function as **log-loss function**.\n",
    "    - For 2 class/binary classification:\n",
    "        - Binary Crossentropy.\n",
    "    - For multi class classification:\n",
    "        - Categorical Crossentropy\n",
    "        - Sparse Categorical Crossentropy\n",
    "        \n",
    "* Optimizer in Compiling:\n",
    "    - **Simple Reference**: https://towardsdatascience.com/understanding-rmsprop-faster-neural-network-learning-62e116fcf29a\n",
    "    -  **RMSProp**: \n",
    "        - RMS stands for root mean square.\n",
    "        - Keep the moving average of the squared gradients for each weight. \n",
    "        - And then we divide the gradient by square root the mean square.\n"
   ]
  },
  {
   "cell_type": "code",
   "execution_count": 1,
   "metadata": {},
   "outputs": [],
   "source": [
    "import csv\n",
    "import numpy as np\n",
    "import tensorflow as tf\n",
    "from tensorflow.keras.preprocessing.image import ImageDataGenerator\n",
    "from os import getcwd"
   ]
  },
  {
   "cell_type": "code",
   "execution_count": 2,
   "metadata": {
    "colab": {},
    "colab_type": "code",
    "id": "4kxw-_rmcnVu"
   },
   "outputs": [
    {
     "name": "stdout",
     "output_type": "stream",
     "text": [
      "(27455, 28, 28)\n",
      "(27455,)\n",
      "(7172, 28, 28)\n",
      "(7172,)\n"
     ]
    }
   ],
   "source": [
    "def get_data(filename):\n",
    "    images = []\n",
    "    labels = []\n",
    "    with open(filename) as training_file:\n",
    "        images = []\n",
    "        labels = []\n",
    "        #skip first row.\n",
    "        training_file.readline()\n",
    "        for count,row in enumerate(training_file):\n",
    "            row = row.split(\",\")\n",
    "            label = np.array(row[0]).astype(np.float)\n",
    "            image_string = np.array(row[1:785]).astype(np.float)\n",
    "            \n",
    "            image = np.array_split(image_string, 28)\n",
    "            \n",
    "            label = np.array(label) \n",
    "            image = np.array(image) \n",
    "            \n",
    "            labels = np.append(labels, label)\n",
    "            images.append(image)\n",
    "                \n",
    "                \n",
    "        labels = np.array(labels).astype(float)\n",
    "        images = np.array(images).astype(float)\n",
    "\n",
    "    return images, labels\n",
    "\n",
    "\n",
    "path_sign_mnist_train = f\"{getcwd()}\\\\sign_mnist_train.csv\"\n",
    "path_sign_mnist_test = f\"{getcwd()}\\\\sign_mnist_test.csv\"\n",
    "training_images, training_labels = get_data(path_sign_mnist_train)\n",
    "testing_images, testing_labels = get_data(path_sign_mnist_test)\n",
    "\n",
    "# Keep these\n",
    "print(training_images.shape)\n",
    "print(training_labels.shape)\n",
    "print(testing_images.shape)\n",
    "print(testing_labels.shape)"
   ]
  },
  {
   "cell_type": "code",
   "execution_count": 3,
   "metadata": {
    "colab": {},
    "colab_type": "code",
    "id": "awoqRpyZdQkD"
   },
   "outputs": [
    {
     "name": "stdout",
     "output_type": "stream",
     "text": [
      "(27455, 28, 28, 1)\n",
      "(7172, 28, 28, 1)\n"
     ]
    }
   ],
   "source": [
    "# Adding another dimension to the data\n",
    "\n",
    "training_images = np.expand_dims(training_images, axis=3)\n",
    "testing_images = np.expand_dims(testing_images, axis=3)\n",
    "\n",
    "# Create an ImageDataGenerator and do Image Augmentation\n",
    "train_datagen = ImageDataGenerator(rescale = 1./255.,\n",
    "                                   rotation_range = 40,\n",
    "                                   width_shift_range = 0.2,\n",
    "                                   height_shift_range = 0.2,\n",
    "                                   shear_range = 0.2,\n",
    "                                   zoom_range = 0.2,\n",
    "                                   horizontal_flip = True)\n",
    "\n",
    "validation_datagen = ImageDataGenerator(rescale = 1./255. )\n",
    "    \n",
    "# Keep These\n",
    "print(training_images.shape)\n",
    "print(testing_images.shape)\n",
    "    \n",
    "# Their output should be:\n",
    "# (27455, 28, 28, 1)\n",
    "# (7172, 28, 28, 1)"
   ]
  },
  {
   "cell_type": "code",
   "execution_count": 4,
   "metadata": {
    "colab": {},
    "colab_type": "code",
    "id": "Rmb7S32cgRqS"
   },
   "outputs": [
    {
     "name": "stdout",
     "output_type": "stream",
     "text": [
      "Epoch 1/10\n",
      "858/858 [==============================] - 65s 76ms/step - loss: 2.7473 - accuracy: 0.1657 - val_loss: 1.7925 - val_accuracy: 0.4218\n",
      "Epoch 2/10\n",
      "858/858 [==============================] - 65s 75ms/step - loss: 2.1006 - accuracy: 0.3386 - val_loss: 1.4381 - val_accuracy: 0.4757\n",
      "Epoch 3/10\n",
      "858/858 [==============================] - 63s 73ms/step - loss: 1.7317 - accuracy: 0.4494 - val_loss: 0.9528 - val_accuracy: 0.6807\n",
      "Epoch 4/10\n",
      "858/858 [==============================] - 63s 73ms/step - loss: 1.4856 - accuracy: 0.5166 - val_loss: 0.6494 - val_accuracy: 0.7818\n",
      "Epoch 5/10\n",
      "858/858 [==============================] - 63s 73ms/step - loss: 1.3193 - accuracy: 0.5696 - val_loss: 0.6878 - val_accuracy: 0.7656\n",
      "Epoch 6/10\n",
      "858/858 [==============================] - 63s 74ms/step - loss: 1.1930 - accuracy: 0.6124 - val_loss: 0.4678 - val_accuracy: 0.8526\n",
      "Epoch 7/10\n",
      "858/858 [==============================] - 63s 74ms/step - loss: 1.0985 - accuracy: 0.6428 - val_loss: 0.4441 - val_accuracy: 0.8628\n",
      "Epoch 8/10\n",
      "858/858 [==============================] - 63s 74ms/step - loss: 1.0144 - accuracy: 0.6692 - val_loss: 0.3442 - val_accuracy: 0.8953\n",
      "Epoch 9/10\n",
      "858/858 [==============================] - 69s 81ms/step - loss: 0.9383 - accuracy: 0.6922 - val_loss: 0.3291 - val_accuracy: 0.8772\n",
      "Epoch 10/10\n",
      "858/858 [==============================] - 74s 87ms/step - loss: 0.8899 - accuracy: 0.7065 - val_loss: 0.2833 - val_accuracy: 0.9035\n"
     ]
    },
    {
     "data": {
      "text/plain": [
       "[130.5679134405065, 0.6742889]"
      ]
     },
     "execution_count": 4,
     "metadata": {},
     "output_type": "execute_result"
    }
   ],
   "source": [
    "# Define the model\n",
    "model = tf.keras.models.Sequential([\n",
    "    tf.keras.layers.Conv2D(64, (3,3), activation='relu', input_shape=(28, 28, 1)),\n",
    "    tf.keras.layers.MaxPooling2D(2,2),\n",
    "    tf.keras.layers.Conv2D(64, (3,3), activation='relu'),\n",
    "    tf.keras.layers.MaxPooling2D(2,2), \n",
    "    # Flatten the results to feed into a DNN\n",
    "    tf.keras.layers.Flatten(), \n",
    "    tf.keras.layers.Dropout(0.5),\n",
    "    # 512 neuron hidden layer\n",
    "    tf.keras.layers.Dense(512, activation='relu'), \n",
    "    tf.keras.layers.Dense(25, activation='softmax')\n",
    "])\n",
    "\n",
    "# Compile Model. \n",
    "model.compile(loss = 'sparse_categorical_crossentropy', optimizer='rmsprop', metrics=['accuracy'])\n",
    "\n",
    "# Train the Model\n",
    "history = model.fit_generator(train_datagen.flow(training_images, training_labels), \n",
    "                              validation_data = validation_datagen.flow(testing_images, testing_labels),\n",
    "                              epochs=10, verbose = 1)\n",
    "\n",
    "model.evaluate(testing_images, testing_labels, verbose=0)"
   ]
  },
  {
   "cell_type": "code",
   "execution_count": 7,
   "metadata": {
    "colab": {},
    "colab_type": "code",
    "id": "_Q3Zpr46dsij"
   },
   "outputs": [
    {
     "data": {
      "image/png": "[encoded data removed]",
      "text/plain": [
       "<Figure size 432x288 with 1 Axes>"
      ]
     },
     "metadata": {
      "needs_background": "light"
     },
     "output_type": "display_data"
    },
    {
     "data": {
      "image/png": "[encoded data removed]",
      "text/plain": [
       "<Figure size 432x288 with 1 Axes>"
      ]
     },
     "metadata": {
      "needs_background": "light"
     },
     "output_type": "display_data"
    }
   ],
   "source": [
    "# Plot the chart for accuracy and loss on both training and validation\n",
    "%matplotlib inline\n",
    "import matplotlib.pyplot as plt\n",
    "acc = history.history['accuracy']\n",
    "val_acc = history.history['val_accuracy']\n",
    "loss = history.history['loss']\n",
    "val_loss = history.history['val_loss']\n",
    "\n",
    "epochs = range(len(acc))\n",
    "\n",
    "plt.plot(epochs, acc, 'r', label='Training accuracy')\n",
    "plt.plot(epochs, val_acc, 'b', label='Validation accuracy')\n",
    "plt.title('Training and validation accuracy')\n",
    "plt.legend()\n",
    "plt.figure()\n",
    "\n",
    "plt.plot(epochs, loss, 'r', label='Training Loss')\n",
    "plt.plot(epochs, val_loss, 'b', label='Validation Loss')\n",
    "plt.title('Training and validation loss')\n",
    "plt.legend()\n",
    "\n",
    "plt.show()"
   ]
  },
  {
   "cell_type": "code",
   "execution_count": 18,
   "metadata": {},
   "outputs": [
    {
     "data": {
      "text/plain": [
       "array([[0., 0., 0., 0., 0., 0., 0., 0., 0., 0., 0., 0., 0., 0., 0., 0.,\n",
       "        0., 0., 0., 0., 0., 0., 0., 1., 0.]], dtype=float32)"
      ]
     },
     "execution_count": 18,
     "metadata": {},
     "output_type": "execute_result"
    }
   ],
   "source": [
    "from keras.preprocessing import image\n",
    "import cv2\n",
    "\n",
    "img = cv2.imread(f\"{getcwd()}\\\\\" + \"random_c.jpg\")\n",
    "img = cv2.resize(img, (28, 28))\n",
    "img = cv2.cvtColor(img, cv2.COLOR_BGR2GRAY)\n",
    "img = img.reshape((28, 28, 1))\n",
    "img = tf.cast(img, tf.float32)\n",
    "model.predict(np.expand_dims(img, axis = 0))\n",
    "\n",
    "# Given C, model predicted a Y... :("
   ]
  }
 ],
 "metadata": {
  "colab": {
   "name": "Exercise 8 - Question.ipynb",
   "provenance": []
  },
  "coursera": {
   "course_slug": "convolutional-neural-networks-tensorflow",
   "graded_item_id": "8mIh8",
   "launcher_item_id": "gg95t"
  },
  "kernelspec": {
   "display_name": "Python 3",
   "language": "python",
   "name": "python3"
  },
  "language_info": {
   "codemirror_mode": {
    "name": "ipython",
    "version": 3
   },
   "file_extension": ".py",
   "mimetype": "text/x-python",
   "name": "python",
   "nbconvert_exporter": "python",
   "pygments_lexer": "ipython3",
   "version": "3.7.6"
  }
 },
 "nbformat": 4,
 "nbformat_minor": 1
}
